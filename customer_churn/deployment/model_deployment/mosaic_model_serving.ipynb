{
 "cells": [
  {
   "cell_type": "code",
   "execution_count": 0,
   "metadata": {
    "application/vnd.databricks.v1+cell": {
     "cellMetadata": {
      "byteLimit": 2048000,
      "rowLimit": 10000
     },
     "inputWidgets": {},
     "nuid": "52bb63a7-112e-4e97-8e9b-2d40d3518690",
     "showTitle": false,
     "tableResultSettingsMap": {},
     "title": ""
    }
   },
   "outputs": [],
   "source": [
    "%load_ext autoreload\n",
    "%autoreload 2"
   ]
  },
  {
   "cell_type": "code",
   "execution_count": 0,
   "metadata": {
    "application/vnd.databricks.v1+cell": {
     "cellMetadata": {
      "byteLimit": 2048000,
      "rowLimit": 10000
     },
     "inputWidgets": {},
     "nuid": "1c82bf9c-b76a-4697-a6b0-9ba89659e6dc",
     "showTitle": false,
     "tableResultSettingsMap": {},
     "title": ""
    }
   },
   "outputs": [],
   "source": [
    "%pip install databricks-sdk --upgrade"
   ]
  },
  {
   "cell_type": "code",
   "execution_count": 0,
   "metadata": {
    "application/vnd.databricks.v1+cell": {
     "cellMetadata": {
      "byteLimit": 2048000,
      "rowLimit": 10000
     },
     "inputWidgets": {},
     "nuid": "419557c7-efc6-493b-9455-178443977025",
     "showTitle": false,
     "tableResultSettingsMap": {},
     "title": ""
    }
   },
   "outputs": [],
   "source": [
    "%restart_python"
   ]
  },
  {
   "cell_type": "code",
   "execution_count": 0,
   "metadata": {
    "application/vnd.databricks.v1+cell": {
     "cellMetadata": {
      "byteLimit": 2048000,
      "rowLimit": 10000
     },
     "inputWidgets": {},
     "nuid": "8310e569-3cbf-43dc-bb9a-76e02aec24ec",
     "showTitle": false,
     "tableResultSettingsMap": {},
     "title": ""
    }
   },
   "outputs": [],
   "source": [
    "from databricks.sdk import WorkspaceClient\n",
    "from databricks.sdk.service.serving import EndpointCoreConfigInput, ServedEntityInput, ServingModelWorkloadType, AiGatewayConfig, AiGatewayInferenceTableConfig, AiGatewayUsageTrackingConfig\n",
    "\n",
    "w = WorkspaceClient()"
   ]
  },
  {
   "cell_type": "code",
   "execution_count": 0,
   "metadata": {
    "application/vnd.databricks.v1+cell": {
     "cellMetadata": {},
     "inputWidgets": {},
     "nuid": "0794da24-a20e-45f8-aaca-18e99c371513",
     "showTitle": false,
     "tableResultSettingsMap": {},
     "title": ""
    }
   },
   "outputs": [],
   "source": []
  },
  {
   "cell_type": "code",
   "execution_count": 0,
   "metadata": {
    "application/vnd.databricks.v1+cell": {
     "cellMetadata": {},
     "inputWidgets": {},
     "nuid": "ca52b84e-3eeb-4704-8780-bd4381beeea2",
     "showTitle": false,
     "tableResultSettingsMap": {},
     "title": ""
    }
   },
   "outputs": [],
   "source": [
    "w.serving_endpoints.create(\n",
    "    name = model_name\n",
    "    ,config = EndpointCoreConfigInput(\n",
    "        name = model_name\n",
    "        ,served_entities = [\n",
    "            ServedEntityInput(\n",
    "                entity_name = full_model_name\n",
    "                ,entity_version = client.get_model_version_by_alias(full_model_name, \"latest_version\").version\n",
    "                ,environment_vars = {\n",
    "                    'REDOX_PRIVATE_KEY': \"{{secrets/\" + f\"{databricks_secret_scope}\" + \"/redox_private_key}}\"\n",
    "                    ,'REDOX_CLIENT_ID': \"{{secrets/\" + f\"{databricks_secret_scope}\" + \"/redox_client_id}}\"\n",
    "                    ,'REDOX_SOURCE_ID': \"{{secrets/\" + f\"{databricks_secret_scope}\" + \"/redox_source_id}}\"\n",
    "                    ,'REDOX_PUBLIC_KID': \"{{secrets/\" + f\"{databricks_secret_scope}\" + \"/redox_public_kid}}\"\n",
    "                }\n",
    "                ,scale_to_zero_enabled = True\n",
    "                ,workload_size = \"Small\"\n",
    "                ,workload_type = ServingModelWorkloadType(\"CPU\")\n",
    "            )\n",
    "        ]\n",
    "    )\n",
    "    ,ai_gateway = AiGatewayConfig(\n",
    "        inference_table_config = AiGatewayInferenceTableConfig(\n",
    "            catalog_name=catalog_use\n",
    "            ,schema_name=schema_use\n",
    "            ,table_name_prefix = None\n",
    "            ,enabled=True\n",
    "        )\n",
    "        ,usage_tracking_config = AiGatewayUsageTrackingConfig(\n",
    "            enabled=True\n",
    "        )\n",
    "    )\n",
    ")"
   ]
  }
 ],
 "metadata": {
  "application/vnd.databricks.v1+notebook": {
   "computePreferences": null,
   "dashboards": [],
   "environmentMetadata": {
    "base_environment": "",
    "environment_version": "2"
   },
   "inputWidgetPreferences": null,
   "language": "python",
   "notebookMetadata": {
    "pythonIndentUnit": 2
   },
   "notebookName": "mosaic_model_serving",
   "widgets": {}
  },
  "language_info": {
   "name": "python"
  }
 },
 "nbformat": 4,
 "nbformat_minor": 0
}
