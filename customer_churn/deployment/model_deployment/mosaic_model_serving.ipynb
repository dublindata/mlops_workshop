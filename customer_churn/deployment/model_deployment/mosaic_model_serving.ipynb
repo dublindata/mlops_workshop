{
 "cells": [
  {
   "cell_type": "code",
   "execution_count": 0,
   "metadata": {
    "application/vnd.databricks.v1+cell": {
     "cellMetadata": {
      "byteLimit": 2048000,
      "rowLimit": 10000
     },
     "inputWidgets": {},
     "nuid": "52bb63a7-112e-4e97-8e9b-2d40d3518690",
     "showTitle": false,
     "tableResultSettingsMap": {},
     "title": ""
    }
   },
   "outputs": [],
   "source": [
    "%load_ext autoreload\n",
    "%autoreload 2"
   ]
  },
  {
   "cell_type": "code",
   "execution_count": 0,
   "metadata": {
    "application/vnd.databricks.v1+cell": {
     "cellMetadata": {
      "byteLimit": 2048000,
      "rowLimit": 10000
     },
     "inputWidgets": {},
     "nuid": "1c82bf9c-b76a-4697-a6b0-9ba89659e6dc",
     "showTitle": false,
     "tableResultSettingsMap": {},
     "title": ""
    }
   },
   "outputs": [],
   "source": [
    "%pip install databricks-sdk --upgrade"
   ]
  },
  {
   "cell_type": "code",
   "execution_count": 0,
   "metadata": {
    "application/vnd.databricks.v1+cell": {
     "cellMetadata": {
      "byteLimit": 2048000,
      "rowLimit": 10000
     },
     "inputWidgets": {},
     "nuid": "dbf8affb-3093-414c-8eda-bb7fee2f27a9",
     "showTitle": false,
     "tableResultSettingsMap": {},
     "title": ""
    }
   },
   "outputs": [],
   "source": [
    "%pip install --quiet mlflow==2.19 databricks-feature-engineering==0.8.0"
   ]
  },
  {
   "cell_type": "code",
   "execution_count": 0,
   "metadata": {
    "application/vnd.databricks.v1+cell": {
     "cellMetadata": {
      "byteLimit": 2048000,
      "rowLimit": 10000
     },
     "inputWidgets": {},
     "nuid": "419557c7-efc6-493b-9455-178443977025",
     "showTitle": false,
     "tableResultSettingsMap": {},
     "title": ""
    }
   },
   "outputs": [],
   "source": [
    "%restart_python"
   ]
  },
  {
   "cell_type": "code",
   "execution_count": 0,
   "metadata": {
    "application/vnd.databricks.v1+cell": {
     "cellMetadata": {
      "byteLimit": 2048000,
      "rowLimit": 10000
     },
     "inputWidgets": {},
     "nuid": "8735ef3e-e037-487c-b603-33ac81d227d7",
     "showTitle": false,
     "tableResultSettingsMap": {},
     "title": ""
    }
   },
   "outputs": [],
   "source": [
    "dbutils.widgets.text(\"catalog_use\", \"datascience_dev\", label=\"Catalog to Use\")\n",
    "dbutils.widgets.text(\"schema_use\", \"main\", label=\"Schema to Use\")"
   ]
  },
  {
   "cell_type": "code",
   "execution_count": 0,
   "metadata": {
    "application/vnd.databricks.v1+cell": {
     "cellMetadata": {
      "byteLimit": 2048000,
      "rowLimit": 10000
     },
     "inputWidgets": {},
     "nuid": "200c90e7-b515-4a47-94b1-c51c8e38a692",
     "showTitle": false,
     "tableResultSettingsMap": {},
     "title": ""
    }
   },
   "outputs": [],
   "source": [
    "catalog_use = dbutils.widgets.get(\"catalog_use\")\n",
    "schema_use = dbutils.widgets.get(\"schema_use\")\n",
    "spark.sql(f\"USE {catalog_use}.{schema_use}\")"
   ]
  },
  {
   "cell_type": "code",
   "execution_count": 0,
   "metadata": {
    "application/vnd.databricks.v1+cell": {
     "cellMetadata": {
      "byteLimit": 2048000,
      "implicitDf": true,
      "rowLimit": 10000
     },
     "inputWidgets": {},
     "nuid": "054db572-ff8d-4286-8dc2-24d1fc3a8187",
     "showTitle": false,
     "tableResultSettingsMap": {},
     "title": ""
    }
   },
   "outputs": [],
   "source": [
    "%sql\n",
    "select current_catalog(), current_schema();"
   ]
  },
  {
   "cell_type": "code",
   "execution_count": 0,
   "metadata": {
    "application/vnd.databricks.v1+cell": {
     "cellMetadata": {
      "byteLimit": 2048000,
      "rowLimit": 10000
     },
     "inputWidgets": {},
     "nuid": "8310e569-3cbf-43dc-bb9a-76e02aec24ec",
     "showTitle": false,
     "tableResultSettingsMap": {},
     "title": ""
    }
   },
   "outputs": [],
   "source": [
    "from databricks.sdk import WorkspaceClient\n",
    "from databricks.sdk.service.serving import EndpointCoreConfigInput, ServedEntityInput, ServingModelWorkloadType, AiGatewayConfig, AiGatewayInferenceTableConfig, AiGatewayUsageTrackingConfig\n",
    "from databricks.sdk.service.catalog import OnlineTable, OnlineTableSpec, OnlineTableSpecTriggeredSchedulingPolicy\n",
    "\n",
    "w = WorkspaceClient()"
   ]
  },
  {
   "cell_type": "code",
   "execution_count": 0,
   "metadata": {
    "application/vnd.databricks.v1+cell": {
     "cellMetadata": {
      "byteLimit": 2048000,
      "rowLimit": 10000
     },
     "inputWidgets": {},
     "nuid": "0794da24-a20e-45f8-aaca-18e99c371513",
     "showTitle": false,
     "tableResultSettingsMap": {},
     "title": ""
    }
   },
   "outputs": [],
   "source": [
    "catalog_use = dbutils.widgets.get(\"catalog_use\")\n",
    "schema_use = dbutils.widgets.get(\"schema_use\")\n",
    "spark.sql(f\"USE {catalog_use}.{schema_use}\")"
   ]
  },
  {
   "cell_type": "code",
   "execution_count": 0,
   "metadata": {
    "application/vnd.databricks.v1+cell": {
     "cellMetadata": {
      "byteLimit": 2048000,
      "implicitDf": true,
      "rowLimit": 10000
     },
     "inputWidgets": {},
     "nuid": "a98eb33e-f75d-4971-90be-26de6447a4f7",
     "showTitle": false,
     "tableResultSettingsMap": {},
     "title": ""
    }
   },
   "outputs": [],
   "source": [
    "%sql\n",
    "select current_catalog(), current_schema();"
   ]
  },
  {
   "cell_type": "code",
   "execution_count": 0,
   "metadata": {
    "application/vnd.databricks.v1+cell": {
     "cellMetadata": {
      "byteLimit": 2048000,
      "rowLimit": 10000
     },
     "inputWidgets": {},
     "nuid": "0322aea8-a916-41d3-89cf-49252cedb320",
     "showTitle": false,
     "tableResultSettingsMap": {},
     "title": ""
    }
   },
   "outputs": [],
   "source": [
    "dbutils.widgets.text(\n",
    "    \"short_model_name\",\n",
    "    f\"advanced_mlops_churn_model\",\n",
    "    label=\"Short Model Name\",\n",
    ")\n",
    "\n",
    "# Feature table to store the computed features.\n",
    "dbutils.widgets.text(\n",
    "    \"advanced_churn_feature_table\",\n",
    "    f\"{catalog_use}.{schema_use}.advanced_churn_feature_table\",\n",
    "    label=\"Feature Table\",\n",
    ")"
   ]
  },
  {
   "cell_type": "code",
   "execution_count": 0,
   "metadata": {
    "application/vnd.databricks.v1+cell": {
     "cellMetadata": {
      "byteLimit": 2048000,
      "rowLimit": 10000
     },
     "inputWidgets": {},
     "nuid": "04c5eaa8-7a52-40ea-9d7a-5fd63636d7e7",
     "showTitle": false,
     "tableResultSettingsMap": {},
     "title": ""
    }
   },
   "outputs": [],
   "source": [
    "model_name = dbutils.widgets.get(\"short_model_name\")\n",
    "full_model_name = f\"{catalog_use}.{schema_use}.{model_name}\"\n",
    "feature_table = dbutils.widgets.get(\"advanced_churn_feature_table\")"
   ]
  },
  {
   "cell_type": "code",
   "execution_count": 0,
   "metadata": {
    "application/vnd.databricks.v1+cell": {
     "cellMetadata": {
      "byteLimit": 2048000,
      "rowLimit": 10000
     },
     "inputWidgets": {},
     "nuid": "66a17a5f-4476-4524-9792-6dbf96a920cc",
     "showTitle": false,
     "tableResultSettingsMap": {},
     "title": ""
    }
   },
   "outputs": [],
   "source": [
    "print(f\"\"\" \n",
    "  model_name = {model_name}\n",
    "  full_model_name = {full_model_name}\n",
    "  feature_table = {feature_table}\n",
    "\"\"\")"
   ]
  },
  {
   "cell_type": "code",
   "execution_count": 0,
   "metadata": {
    "application/vnd.databricks.v1+cell": {
     "cellMetadata": {
      "byteLimit": 2048000,
      "rowLimit": 10000
     },
     "inputWidgets": {},
     "nuid": "906b120f-a9be-4d43-9feb-8aa20aa13410",
     "showTitle": false,
     "tableResultSettingsMap": {},
     "title": ""
    }
   },
   "outputs": [],
   "source": [
    "import mlflow"
   ]
  },
  {
   "cell_type": "code",
   "execution_count": 0,
   "metadata": {
    "application/vnd.databricks.v1+cell": {
     "cellMetadata": {
      "byteLimit": 2048000,
      "rowLimit": 10000
     },
     "inputWidgets": {},
     "nuid": "709f46a6-0d18-4c46-b7ba-3e2b3f52f0a4",
     "showTitle": false,
     "tableResultSettingsMap": {},
     "title": ""
    }
   },
   "outputs": [],
   "source": [
    "client = mlflow.MlflowClient()"
   ]
  },
  {
   "cell_type": "code",
   "execution_count": 0,
   "metadata": {
    "application/vnd.databricks.v1+cell": {
     "cellMetadata": {
      "byteLimit": 2048000,
      "rowLimit": 10000
     },
     "inputWidgets": {},
     "nuid": "c5cd1b99-e055-4855-a666-afb40aac4e11",
     "showTitle": false,
     "tableResultSettingsMap": {},
     "title": ""
    }
   },
   "outputs": [],
   "source": [
    "# Define the online table spec\n",
    "spec = OnlineTableSpec(\n",
    "    primary_key_columns=[\"customer_id\", \"transaction_ts\"],  # Replace with your primary key(s)\n",
    "    source_table_full_name=feature_table,  # Your Delta feature table\n",
    "    run_triggered=OnlineTableSpecTriggeredSchedulingPolicy.from_dict({'triggered': 'true'})\n",
    ")"
   ]
  },
  {
   "cell_type": "code",
   "execution_count": 0,
   "metadata": {
    "application/vnd.databricks.v1+cell": {
     "cellMetadata": {
      "byteLimit": 2048000,
      "rowLimit": 10000
     },
     "inputWidgets": {},
     "nuid": "4b0fc93e-3dca-47bf-93e8-a4b7a0bd127e",
     "showTitle": false,
     "tableResultSettingsMap": {},
     "title": ""
    }
   },
   "outputs": [],
   "source": [
    "spark.sql(f\"ALTER TABLE {feature_table} SET TBLPROPERTIES (delta.enableChangeDataFeed = true)\")"
   ]
  },
  {
   "cell_type": "code",
   "execution_count": 0,
   "metadata": {
    "application/vnd.databricks.v1+cell": {
     "cellMetadata": {
      "byteLimit": 2048000,
      "rowLimit": 10000
     },
     "inputWidgets": {},
     "nuid": "4f345eee-8d9c-4651-94f4-435140e284ab",
     "showTitle": false,
     "tableResultSettingsMap": {},
     "title": ""
    }
   },
   "outputs": [],
   "source": [
    "# Create the online table\n",
    "online_table = OnlineTable(\n",
    "    name=f\"{feature_table}_online\",  # Name for the online table\n",
    "    spec=spec\n",
    ")\n",
    "\n",
    "# Check if the online table exists\n",
    "if not spark.catalog.tableExists(f\"{feature_table}_online\"):\n",
    "  w.online_tables.create_and_wait(table=online_table)"
   ]
  },
  {
   "cell_type": "code",
   "execution_count": 0,
   "metadata": {
    "application/vnd.databricks.v1+cell": {
     "cellMetadata": {
      "byteLimit": 2048000,
      "rowLimit": 10000
     },
     "inputWidgets": {},
     "nuid": "fd7a1edf-feb1-4566-b0ac-a6f8f7a2b5b4",
     "showTitle": false,
     "tableResultSettingsMap": {},
     "title": ""
    }
   },
   "outputs": [],
   "source": [
    "endpoints = w.serving_endpoints.list()\n",
    "endpoints = [w.serving_endpoints.get(endpoint.name) for endpoint in endpoints if endpoint.name == model_name]\n",
    "if len(endpoints) > 0:\n",
    "  pass\n",
    "else:\n",
    "  w.serving_endpoints.create(\n",
    "    name = model_name\n",
    "    ,config = EndpointCoreConfigInput(\n",
    "        name = model_name\n",
    "        ,served_entities = [\n",
    "            ServedEntityInput(\n",
    "                entity_name = full_model_name\n",
    "                ,entity_version = client.get_model_version_by_alias(full_model_name, \"champion\").version\n",
    "                ,environment_vars = {}\n",
    "                ,scale_to_zero_enabled = True\n",
    "                ,workload_size = \"Small\"\n",
    "                ,workload_type = ServingModelWorkloadType(\"CPU\")\n",
    "            )\n",
    "        ]\n",
    "    )\n",
    "    ,ai_gateway = AiGatewayConfig(\n",
    "        inference_table_config = AiGatewayInferenceTableConfig(\n",
    "            catalog_name=catalog_use\n",
    "            ,schema_name=schema_use\n",
    "            ,table_name_prefix = None\n",
    "            ,enabled=True\n",
    "        )\n",
    "        ,usage_tracking_config = AiGatewayUsageTrackingConfig(\n",
    "            enabled=True\n",
    "        )\n",
    "    )\n",
    "  ) "
   ]
  }
 ],
 "metadata": {
  "application/vnd.databricks.v1+notebook": {
   "computePreferences": null,
   "dashboards": [],
   "environmentMetadata": {
    "base_environment": "",
    "environment_version": "2"
   },
   "inputWidgetPreferences": null,
   "language": "python",
   "notebookMetadata": {
    "mostRecentlyExecutedCommandWithImplicitDF": {
     "commandId": 4335879931321077,
     "dataframes": [
      "_sqldf"
     ]
    },
    "pythonIndentUnit": 2
   },
   "notebookName": "mosaic_model_serving",
   "widgets": {
    "advanced_churn_feature_table": {
     "currentValue": "mgiglia.main.advanced_churn_feature_table",
     "nuid": "29c43645-f6de-4295-b342-2688f437cdd1",
     "typedWidgetInfo": {
      "autoCreated": false,
      "defaultValue": "mgiglia.main.advanced_churn_feature_table",
      "label": "Feature Table",
      "name": "advanced_churn_feature_table",
      "options": {
       "widgetDisplayType": "Text",
       "validationRegex": null
      },
      "parameterDataType": "String"
     },
     "widgetInfo": {
      "widgetType": "text",
      "defaultValue": "mgiglia.main.advanced_churn_feature_table",
      "label": "Feature Table",
      "name": "advanced_churn_feature_table",
      "options": {
       "widgetType": "text",
       "autoCreated": null,
       "validationRegex": null
      }
     }
    },
    "catalog_use": {
     "currentValue": "mgiglia",
     "nuid": "4b4c6f05-d46f-4539-af04-539feb29ba72",
     "typedWidgetInfo": {
      "autoCreated": false,
      "defaultValue": "datascience_dev",
      "label": "Catalog to Use",
      "name": "catalog_use",
      "options": {
       "widgetDisplayType": "Text",
       "validationRegex": null
      },
      "parameterDataType": "String"
     },
     "widgetInfo": {
      "widgetType": "text",
      "defaultValue": "datascience_dev",
      "label": "Catalog to Use",
      "name": "catalog_use",
      "options": {
       "widgetType": "text",
       "autoCreated": null,
       "validationRegex": null
      }
     }
    },
    "model_name": {
     "currentValue": "mgiglia.main.advanced_mlops_churn_model",
     "nuid": "fec2cf93-6cc2-41fc-9e10-e30b77a966fb",
     "typedWidgetInfo": {
      "autoCreated": false,
      "defaultValue": "mgiglia.main.advanced_mlops_churn_model",
      "label": "Model Name",
      "name": "model_name",
      "options": {
       "widgetDisplayType": "Text",
       "validationRegex": null
      },
      "parameterDataType": "String"
     },
     "widgetInfo": {
      "widgetType": "text",
      "defaultValue": "mgiglia.main.advanced_mlops_churn_model",
      "label": "Model Name",
      "name": "model_name",
      "options": {
       "widgetType": "text",
       "autoCreated": false,
       "validationRegex": null
      }
     }
    },
    "schema_use": {
     "currentValue": "main",
     "nuid": "bb839b99-68c6-4b53-9f6b-b92ed619947a",
     "typedWidgetInfo": {
      "autoCreated": false,
      "defaultValue": "main",
      "label": "Schema to Use",
      "name": "schema_use",
      "options": {
       "widgetDisplayType": "Text",
       "validationRegex": null
      },
      "parameterDataType": "String"
     },
     "widgetInfo": {
      "widgetType": "text",
      "defaultValue": "main",
      "label": "Schema to Use",
      "name": "schema_use",
      "options": {
       "widgetType": "text",
       "autoCreated": null,
       "validationRegex": null
      }
     }
    },
    "short_model_name": {
     "currentValue": "advanced_mlops_churn_model",
     "nuid": "1d9055ad-026d-4791-915c-bc0e127fa914",
     "typedWidgetInfo": {
      "autoCreated": false,
      "defaultValue": "advanced_mlops_churn_model",
      "label": "Short Model Name",
      "name": "short_model_name",
      "options": {
       "widgetDisplayType": "Text",
       "validationRegex": null
      },
      "parameterDataType": "String"
     },
     "widgetInfo": {
      "widgetType": "text",
      "defaultValue": "advanced_mlops_churn_model",
      "label": "Short Model Name",
      "name": "short_model_name",
      "options": {
       "widgetType": "text",
       "autoCreated": null,
       "validationRegex": null
      }
     }
    }
   }
  },
  "language_info": {
   "name": "python"
  }
 },
 "nbformat": 4,
 "nbformat_minor": 0
}
